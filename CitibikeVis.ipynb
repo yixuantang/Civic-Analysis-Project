{
 "cells": [
  {
   "cell_type": "markdown",
   "metadata": {},
   "source": [
    "## 2014 - 2016 CitiBike Data Visualization\n",
    "### Yixuan T\n",
    "### Nov. 2017"
   ]
  },
  {
   "cell_type": "markdown",
   "metadata": {},
   "source": [
    "## I.Data Processing "
   ]
  },
  {
   "cell_type": "code",
   "execution_count": 1,
   "metadata": {},
   "outputs": [
    {
     "name": "stdout",
     "output_type": "stream",
     "text": [
      "Populating the interactive namespace from numpy and matplotlib\n"
     ]
    }
   ],
   "source": [
    "#from __future__  import print_function, division\n",
    "import pylab as pl\n",
    "import pandas as pd\n",
    "import numpy as np\n",
    "import os\n",
    "\n",
    "%pylab inline\n",
    "\n",
    "if os.getenv ('PUIDATA') is None:\n",
    "    print (\"Must set env variable PUI2016\")\n",
    "\n",
    "import os\n",
    "import json"
   ]
  },
  {
   "cell_type": "code",
   "execution_count": 2,
   "metadata": {
    "collapsed": true
   },
   "outputs": [],
   "source": [
    "def getCitiBikeCSV(datestring):\n",
    "    print (\"Downloading\", datestring)\n",
    "    ### First I will heck that it is not already there\n",
    "    if not os.path.isfile(os.getenv(\"PUIDATA\") + \"/\" + datestring + \"-citibike-tripdata.csv\"):\n",
    "        if os.path.isfile(datestring + \"-citibike-tripdata.csv\"):\n",
    "            # if in the current dir just move it\n",
    "            if os.system(\"mv \" + datestring + \"-citibike-tripdata.csv \" + os.getenv(\"PUIDATA\")):\n",
    "                print (\"Error moving file!, Please check!\")\n",
    "        #otherwise start looking for the zip file\n",
    "        else:\n",
    "            if not os.path.isfile(os.getenv(\"PUIDATA\") + \"/\" + datestring + \"-citibike-tripdata.zip\"):\n",
    "                if not os.path.isfile(datestring + \"-citibike-tripdata.zip\"):\n",
    "                    os.system(\"curl -O https://s3.amazonaws.com/tripdata/\" + datestring + \"-citibike-tripdata.zip\")\n",
    "                ###  To move it I use the os.system() functions to run bash commands with arguments\n",
    "                os.system(\"mv \" + datestring + \"-citibike-tripdata.zip \" + os.getenv(\"PUIDATA\"))\n",
    "            ### unzip the csv \n",
    "            os.system(\"unzip \" + os.getenv(\"PUIDATA\") + \"/\" + datestring + \"-citibike-tripdata.zip\")\n",
    "            ## NOTE: old csv citibike data had a different name structure. \n",
    "            if '2014' in datestring:\n",
    "                os.system(\"mv \" + datestring[:4] + '-' +  datestring[4:] + \n",
    "                          \"\\ -\\ Citi\\ Bike\\ trip\\ data.csv \" + datestring + \"-citibike-tripdata.csv\")\n",
    "            os.system(\"mv \" + datestring + \"-citibike-tripdata.csv \" + os.getenv(\"PUIDATA\"))\n",
    "    ### One final check:\n",
    "    if not os.path.isfile(os.getenv(\"PUIDATA\") + \"/\" + datestring + \"-citibike-tripdata.csv\"):\n",
    "        print (\"WARNING!!! something is wrong: the file is not there!\")\n",
    "\n",
    "    else:\n",
    "        print (\"file in place, you can continue\")"
   ]
  },
  {
   "cell_type": "code",
   "execution_count": 13,
   "metadata": {
    "scrolled": true
   },
   "outputs": [
    {
     "name": "stdout",
     "output_type": "stream",
     "text": [
      "('Downloading', '201401')\n",
      "file in place, you can continue\n",
      "('Downloading', '201402')\n",
      "file in place, you can continue\n",
      "('Downloading', '201403')\n",
      "file in place, you can continue\n",
      "('Downloading', '201404')\n",
      "file in place, you can continue\n",
      "('Downloading', '201405')\n",
      "file in place, you can continue\n",
      "('Downloading', '201406')\n",
      "file in place, you can continue\n",
      "('Downloading', '201407')\n",
      "file in place, you can continue\n",
      "('Downloading', '201408')\n",
      "file in place, you can continue\n",
      "('Downloading', '201409')\n",
      "file in place, you can continue\n",
      "('Downloading', '201410')\n",
      "file in place, you can continue\n",
      "('Downloading', '201411')\n",
      "file in place, you can continue\n",
      "('Downloading', '201412')\n",
      "file in place, you can continue\n"
     ]
    }
   ],
   "source": [
    "# download the 2014 data\n",
    "for i in range(1,13):\n",
    "    if i <10:\n",
    "        a = '20140' + str(i)\n",
    "    else:\n",
    "        a = '2014' + str(i)\n",
    "    getCitiBikeCSV(a)"
   ]
  },
  {
   "cell_type": "code",
   "execution_count": 104,
   "metadata": {},
   "outputs": [
    {
     "name": "stdout",
     "output_type": "stream",
     "text": [
      "('Downloading', '201501')\n",
      "file in place, you can continue\n",
      "('Downloading', '201502')\n",
      "file in place, you can continue\n",
      "('Downloading', '201503')\n",
      "file in place, you can continue\n",
      "('Downloading', '201504')\n",
      "file in place, you can continue\n",
      "('Downloading', '201505')\n",
      "file in place, you can continue\n",
      "('Downloading', '201506')\n",
      "file in place, you can continue\n",
      "('Downloading', '201507')\n",
      "file in place, you can continue\n",
      "('Downloading', '201508')\n",
      "file in place, you can continue\n",
      "('Downloading', '201509')\n",
      "file in place, you can continue\n",
      "('Downloading', '201510')\n",
      "file in place, you can continue\n",
      "('Downloading', '201511')\n",
      "file in place, you can continue\n",
      "('Downloading', '201512')\n",
      "file in place, you can continue\n"
     ]
    }
   ],
   "source": [
    "# download the 2015 data\n",
    "for i in range(1,13):\n",
    "    if i <10:\n",
    "        a = '20150' + str(i)\n",
    "    else:\n",
    "        a = '2015' + str(i)\n",
    "    getCitiBikeCSV(a)"
   ]
  },
  {
   "cell_type": "code",
   "execution_count": 106,
   "metadata": {},
   "outputs": [
    {
     "name": "stdout",
     "output_type": "stream",
     "text": [
      "('Downloading', '201601')\n",
      "file in place, you can continue\n",
      "('Downloading', '201602')\n",
      "file in place, you can continue\n",
      "('Downloading', '201603')\n",
      "file in place, you can continue\n",
      "('Downloading', '201604')\n",
      "file in place, you can continue\n",
      "('Downloading', '201605')\n",
      "file in place, you can continue\n",
      "('Downloading', '201606')\n",
      "file in place, you can continue\n",
      "('Downloading', '201607')\n",
      "file in place, you can continue\n",
      "('Downloading', '201608')\n",
      "file in place, you can continue\n",
      "('Downloading', '201609')\n",
      "file in place, you can continue\n",
      "('Downloading', '201610')\n",
      "file in place, you can continue\n",
      "('Downloading', '201611')\n",
      "file in place, you can continue\n",
      "('Downloading', '201612')\n",
      "file in place, you can continue\n"
     ]
    }
   ],
   "source": [
    "# download the 2016 data\n",
    "for i in range(1,13):\n",
    "    if i <10:\n",
    "        a = '20160' + str(i)\n",
    "    else:\n",
    "        a = '2016' + str(i)\n",
    "    getCitiBikeCSV(a)"
   ]
  },
  {
   "cell_type": "code",
   "execution_count": 5,
   "metadata": {},
   "outputs": [
    {
     "name": "stdout",
     "output_type": "stream",
     "text": [
      "PUIDATA/201401-citibike-tripdata.csv    300401\n",
      "PUIDATA/201402-citibike-tripdata.csv    224737\n",
      "PUIDATA/201403-citibike-tripdata.csv    439118\n",
      "PUIDATA/201404-citibike-tripdata.csv    670781\n",
      "PUIDATA/201405-citibike-tripdata.csv    866118\n",
      "PUIDATA/201406-citibike-tripdata.csv    936881\n",
      "PUIDATA/201407-citibike-tripdata.csv    968843\n",
      "PUIDATA/201408-citibike-tripdata.csv    963490\n",
      "PUIDATA/201409-citibike-tripdata.csv    953888\n",
      "PUIDATA/201410-citibike-tripdata.csv    828712\n",
      "PUIDATA/201411-citibike-tripdata.csv    529189\n",
      "PUIDATA/201412-citibike-tripdata.csv    399070\n",
      "dtype: int64\n",
      "                                filename    rows\n",
      "0   PUIDATA/201401-citibike-tripdata.csv  300401\n",
      "1   PUIDATA/201402-citibike-tripdata.csv  224737\n",
      "2   PUIDATA/201403-citibike-tripdata.csv  439118\n",
      "3   PUIDATA/201404-citibike-tripdata.csv  670781\n",
      "4   PUIDATA/201405-citibike-tripdata.csv  866118\n",
      "5   PUIDATA/201406-citibike-tripdata.csv  936881\n",
      "6   PUIDATA/201407-citibike-tripdata.csv  968843\n",
      "7   PUIDATA/201408-citibike-tripdata.csv  963490\n",
      "8   PUIDATA/201409-citibike-tripdata.csv  953888\n",
      "9   PUIDATA/201410-citibike-tripdata.csv  828712\n",
      "10  PUIDATA/201411-citibike-tripdata.csv  529189\n",
      "11  PUIDATA/201412-citibike-tripdata.csv  399070\n"
     ]
    }
   ],
   "source": [
    "import glob\n",
    "\n",
    "files = glob.glob('PUIDATA/2014**-citibike-tripdata.csv')\n",
    "\n",
    "d = {f: sum(1 for line in open(f)) for f in files}\n",
    "\n",
    "print (pd.Series(d))\n",
    "print (pd.Series(d).rename('rows').rename_axis('filename').reset_index())"
   ]
  },
  {
   "cell_type": "code",
   "execution_count": 105,
   "metadata": {
    "scrolled": true
   },
   "outputs": [
    {
     "name": "stdout",
     "output_type": "stream",
     "text": [
      "PUIDATA/201501-citibike-tripdata.csv     285553\n",
      "PUIDATA/201502-citibike-tripdata.csv     196931\n",
      "PUIDATA/201503-citibike-tripdata.csv     341827\n",
      "PUIDATA/201504-citibike-tripdata.csv     652391\n",
      "PUIDATA/201505-citibike-tripdata.csv     961987\n",
      "PUIDATA/201506-citibike-tripdata.csv     941220\n",
      "PUIDATA/201507-citibike-tripdata.csv    1085677\n",
      "PUIDATA/201508-citibike-tripdata.csv    1179045\n",
      "PUIDATA/201509-citibike-tripdata.csv    1289700\n",
      "PUIDATA/201510-citibike-tripdata.csv    1212278\n",
      "PUIDATA/201511-citibike-tripdata.csv     987246\n",
      "PUIDATA/201512-citibike-tripdata.csv     804126\n",
      "dtype: int64\n",
      "                                filename     rows\n",
      "0   PUIDATA/201501-citibike-tripdata.csv   285553\n",
      "1   PUIDATA/201502-citibike-tripdata.csv   196931\n",
      "2   PUIDATA/201503-citibike-tripdata.csv   341827\n",
      "3   PUIDATA/201504-citibike-tripdata.csv   652391\n",
      "4   PUIDATA/201505-citibike-tripdata.csv   961987\n",
      "5   PUIDATA/201506-citibike-tripdata.csv   941220\n",
      "6   PUIDATA/201507-citibike-tripdata.csv  1085677\n",
      "7   PUIDATA/201508-citibike-tripdata.csv  1179045\n",
      "8   PUIDATA/201509-citibike-tripdata.csv  1289700\n",
      "9   PUIDATA/201510-citibike-tripdata.csv  1212278\n",
      "10  PUIDATA/201511-citibike-tripdata.csv   987246\n",
      "11  PUIDATA/201512-citibike-tripdata.csv   804126\n"
     ]
    }
   ],
   "source": [
    "files = glob.glob('PUIDATA/2015**-citibike-tripdata.csv')\n",
    "\n",
    "d2015 = {f: sum(1 for line in open(f)) for f in files}\n",
    "\n",
    "print (pd.Series(d2015))\n",
    "print (pd.Series(d2015).rename('rows').rename_axis('filename').reset_index())"
   ]
  },
  {
   "cell_type": "code",
   "execution_count": 118,
   "metadata": {
    "scrolled": true
   },
   "outputs": [
    {
     "name": "stdout",
     "output_type": "stream",
     "text": [
      "PUIDATA/201601-citibike-tripdata.csv     509479\n",
      "PUIDATA/201602-citibike-tripdata.csv     560875\n",
      "PUIDATA/201603-citibike-tripdata.csv     919922\n",
      "PUIDATA/201604-citibike-tripdata.csv    1013150\n",
      "PUIDATA/201605-citibike-tripdata.csv    1212281\n",
      "PUIDATA/201606-citibike-tripdata.csv    1460319\n",
      "PUIDATA/201607-citibike-tripdata.csv    1380111\n",
      "PUIDATA/201608-citibike-tripdata.csv    1557664\n",
      "PUIDATA/201609-citibike-tripdata.csv    1648857\n",
      "PUIDATA/201610-citibike-tripdata.csv    1573873\n",
      "PUIDATA/201611-citibike-tripdata.csv    1196943\n",
      "PUIDATA/201612-citibike-tripdata.csv     812193\n",
      "dtype: int64\n",
      "                                filename     rows\n",
      "0   PUIDATA/201601-citibike-tripdata.csv   509479\n",
      "1   PUIDATA/201602-citibike-tripdata.csv   560875\n",
      "2   PUIDATA/201603-citibike-tripdata.csv   919922\n",
      "3   PUIDATA/201604-citibike-tripdata.csv  1013150\n",
      "4   PUIDATA/201605-citibike-tripdata.csv  1212281\n",
      "5   PUIDATA/201606-citibike-tripdata.csv  1460319\n",
      "6   PUIDATA/201607-citibike-tripdata.csv  1380111\n",
      "7   PUIDATA/201608-citibike-tripdata.csv  1557664\n",
      "8   PUIDATA/201609-citibike-tripdata.csv  1648857\n",
      "9   PUIDATA/201610-citibike-tripdata.csv  1573873\n",
      "10  PUIDATA/201611-citibike-tripdata.csv  1196943\n",
      "11  PUIDATA/201612-citibike-tripdata.csv   812193\n"
     ]
    }
   ],
   "source": [
    "files = glob.glob('PUIDATA/2016**-citibike-tripdata.csv')\n",
    "\n",
    "d2016 = {f: sum(1 for line in open(f)) for f in files}\n",
    "\n",
    "print (pd.Series(d2016))\n",
    "print (pd.Series(d2016).rename('rows').rename_axis('filename').reset_index())"
   ]
  },
  {
   "cell_type": "code",
   "execution_count": 26,
   "metadata": {
    "scrolled": true
   },
   "outputs": [],
   "source": [
    "data = pd.Series(d).rename('counts').rename_axis('filename').reset_index()"
   ]
  },
  {
   "cell_type": "code",
   "execution_count": 28,
   "metadata": {
    "scrolled": true
   },
   "outputs": [
    {
     "data": {
      "text/html": [
       "<div>\n",
       "<style>\n",
       "    .dataframe thead tr:only-child th {\n",
       "        text-align: right;\n",
       "    }\n",
       "\n",
       "    .dataframe thead th {\n",
       "        text-align: left;\n",
       "    }\n",
       "\n",
       "    .dataframe tbody tr th {\n",
       "        vertical-align: top;\n",
       "    }\n",
       "</style>\n",
       "<table border=\"1\" class=\"dataframe\">\n",
       "  <thead>\n",
       "    <tr style=\"text-align: right;\">\n",
       "      <th></th>\n",
       "      <th>filename</th>\n",
       "      <th>counts</th>\n",
       "    </tr>\n",
       "  </thead>\n",
       "  <tbody>\n",
       "    <tr>\n",
       "      <th>1</th>\n",
       "      <td>PUIDATA/201401-citibike-tripdata.csv</td>\n",
       "      <td>300401</td>\n",
       "    </tr>\n",
       "    <tr>\n",
       "      <th>2</th>\n",
       "      <td>PUIDATA/201402-citibike-tripdata.csv</td>\n",
       "      <td>224737</td>\n",
       "    </tr>\n",
       "    <tr>\n",
       "      <th>3</th>\n",
       "      <td>PUIDATA/201403-citibike-tripdata.csv</td>\n",
       "      <td>439118</td>\n",
       "    </tr>\n",
       "    <tr>\n",
       "      <th>4</th>\n",
       "      <td>PUIDATA/201404-citibike-tripdata.csv</td>\n",
       "      <td>670781</td>\n",
       "    </tr>\n",
       "    <tr>\n",
       "      <th>5</th>\n",
       "      <td>PUIDATA/201405-citibike-tripdata.csv</td>\n",
       "      <td>866118</td>\n",
       "    </tr>\n",
       "    <tr>\n",
       "      <th>6</th>\n",
       "      <td>PUIDATA/201406-citibike-tripdata.csv</td>\n",
       "      <td>936881</td>\n",
       "    </tr>\n",
       "    <tr>\n",
       "      <th>7</th>\n",
       "      <td>PUIDATA/201407-citibike-tripdata.csv</td>\n",
       "      <td>968843</td>\n",
       "    </tr>\n",
       "    <tr>\n",
       "      <th>8</th>\n",
       "      <td>PUIDATA/201408-citibike-tripdata.csv</td>\n",
       "      <td>963490</td>\n",
       "    </tr>\n",
       "    <tr>\n",
       "      <th>9</th>\n",
       "      <td>PUIDATA/201409-citibike-tripdata.csv</td>\n",
       "      <td>953888</td>\n",
       "    </tr>\n",
       "    <tr>\n",
       "      <th>10</th>\n",
       "      <td>PUIDATA/201410-citibike-tripdata.csv</td>\n",
       "      <td>828712</td>\n",
       "    </tr>\n",
       "    <tr>\n",
       "      <th>11</th>\n",
       "      <td>PUIDATA/201411-citibike-tripdata.csv</td>\n",
       "      <td>529189</td>\n",
       "    </tr>\n",
       "    <tr>\n",
       "      <th>12</th>\n",
       "      <td>PUIDATA/201412-citibike-tripdata.csv</td>\n",
       "      <td>399070</td>\n",
       "    </tr>\n",
       "  </tbody>\n",
       "</table>\n",
       "</div>"
      ],
      "text/plain": [
       "                                filename  counts\n",
       "1   PUIDATA/201401-citibike-tripdata.csv  300401\n",
       "2   PUIDATA/201402-citibike-tripdata.csv  224737\n",
       "3   PUIDATA/201403-citibike-tripdata.csv  439118\n",
       "4   PUIDATA/201404-citibike-tripdata.csv  670781\n",
       "5   PUIDATA/201405-citibike-tripdata.csv  866118\n",
       "6   PUIDATA/201406-citibike-tripdata.csv  936881\n",
       "7   PUIDATA/201407-citibike-tripdata.csv  968843\n",
       "8   PUIDATA/201408-citibike-tripdata.csv  963490\n",
       "9   PUIDATA/201409-citibike-tripdata.csv  953888\n",
       "10  PUIDATA/201410-citibike-tripdata.csv  828712\n",
       "11  PUIDATA/201411-citibike-tripdata.csv  529189\n",
       "12  PUIDATA/201412-citibike-tripdata.csv  399070"
      ]
     },
     "execution_count": 28,
     "metadata": {},
     "output_type": "execute_result"
    }
   ],
   "source": [
    "data.index = data.index + 1"
   ]
  },
  {
   "cell_type": "code",
   "execution_count": 29,
   "metadata": {
    "collapsed": true
   },
   "outputs": [],
   "source": [
    "data.reset_index(inplace = True)"
   ]
  },
  {
   "cell_type": "code",
   "execution_count": 30,
   "metadata": {
    "scrolled": true
   },
   "outputs": [
    {
     "data": {
      "text/html": [
       "<div>\n",
       "<style>\n",
       "    .dataframe thead tr:only-child th {\n",
       "        text-align: right;\n",
       "    }\n",
       "\n",
       "    .dataframe thead th {\n",
       "        text-align: left;\n",
       "    }\n",
       "\n",
       "    .dataframe tbody tr th {\n",
       "        vertical-align: top;\n",
       "    }\n",
       "</style>\n",
       "<table border=\"1\" class=\"dataframe\">\n",
       "  <thead>\n",
       "    <tr style=\"text-align: right;\">\n",
       "      <th></th>\n",
       "      <th>month</th>\n",
       "      <th>filename</th>\n",
       "      <th>counts</th>\n",
       "    </tr>\n",
       "  </thead>\n",
       "  <tbody>\n",
       "    <tr>\n",
       "      <th>0</th>\n",
       "      <td>1</td>\n",
       "      <td>PUIDATA/201401-citibike-tripdata.csv</td>\n",
       "      <td>300401</td>\n",
       "    </tr>\n",
       "    <tr>\n",
       "      <th>1</th>\n",
       "      <td>2</td>\n",
       "      <td>PUIDATA/201402-citibike-tripdata.csv</td>\n",
       "      <td>224737</td>\n",
       "    </tr>\n",
       "    <tr>\n",
       "      <th>2</th>\n",
       "      <td>3</td>\n",
       "      <td>PUIDATA/201403-citibike-tripdata.csv</td>\n",
       "      <td>439118</td>\n",
       "    </tr>\n",
       "    <tr>\n",
       "      <th>3</th>\n",
       "      <td>4</td>\n",
       "      <td>PUIDATA/201404-citibike-tripdata.csv</td>\n",
       "      <td>670781</td>\n",
       "    </tr>\n",
       "    <tr>\n",
       "      <th>4</th>\n",
       "      <td>5</td>\n",
       "      <td>PUIDATA/201405-citibike-tripdata.csv</td>\n",
       "      <td>866118</td>\n",
       "    </tr>\n",
       "    <tr>\n",
       "      <th>5</th>\n",
       "      <td>6</td>\n",
       "      <td>PUIDATA/201406-citibike-tripdata.csv</td>\n",
       "      <td>936881</td>\n",
       "    </tr>\n",
       "    <tr>\n",
       "      <th>6</th>\n",
       "      <td>7</td>\n",
       "      <td>PUIDATA/201407-citibike-tripdata.csv</td>\n",
       "      <td>968843</td>\n",
       "    </tr>\n",
       "    <tr>\n",
       "      <th>7</th>\n",
       "      <td>8</td>\n",
       "      <td>PUIDATA/201408-citibike-tripdata.csv</td>\n",
       "      <td>963490</td>\n",
       "    </tr>\n",
       "    <tr>\n",
       "      <th>8</th>\n",
       "      <td>9</td>\n",
       "      <td>PUIDATA/201409-citibike-tripdata.csv</td>\n",
       "      <td>953888</td>\n",
       "    </tr>\n",
       "    <tr>\n",
       "      <th>9</th>\n",
       "      <td>10</td>\n",
       "      <td>PUIDATA/201410-citibike-tripdata.csv</td>\n",
       "      <td>828712</td>\n",
       "    </tr>\n",
       "    <tr>\n",
       "      <th>10</th>\n",
       "      <td>11</td>\n",
       "      <td>PUIDATA/201411-citibike-tripdata.csv</td>\n",
       "      <td>529189</td>\n",
       "    </tr>\n",
       "    <tr>\n",
       "      <th>11</th>\n",
       "      <td>12</td>\n",
       "      <td>PUIDATA/201412-citibike-tripdata.csv</td>\n",
       "      <td>399070</td>\n",
       "    </tr>\n",
       "  </tbody>\n",
       "</table>\n",
       "</div>"
      ],
      "text/plain": [
       "    month                              filename  counts\n",
       "0       1  PUIDATA/201401-citibike-tripdata.csv  300401\n",
       "1       2  PUIDATA/201402-citibike-tripdata.csv  224737\n",
       "2       3  PUIDATA/201403-citibike-tripdata.csv  439118\n",
       "3       4  PUIDATA/201404-citibike-tripdata.csv  670781\n",
       "4       5  PUIDATA/201405-citibike-tripdata.csv  866118\n",
       "5       6  PUIDATA/201406-citibike-tripdata.csv  936881\n",
       "6       7  PUIDATA/201407-citibike-tripdata.csv  968843\n",
       "7       8  PUIDATA/201408-citibike-tripdata.csv  963490\n",
       "8       9  PUIDATA/201409-citibike-tripdata.csv  953888\n",
       "9      10  PUIDATA/201410-citibike-tripdata.csv  828712\n",
       "10     11  PUIDATA/201411-citibike-tripdata.csv  529189\n",
       "11     12  PUIDATA/201412-citibike-tripdata.csv  399070"
      ]
     },
     "execution_count": 30,
     "metadata": {},
     "output_type": "execute_result"
    }
   ],
   "source": [
    "data.columns = ['month','filename','counts']\n",
    "data"
   ]
  },
  {
   "cell_type": "code",
   "execution_count": 41,
   "metadata": {},
   "outputs": [
    {
     "name": "stderr",
     "output_type": "stream",
     "text": [
      "/anaconda2/lib/python2.7/site-packages/ipykernel_launcher.py:1: FutureWarning: convert_objects is deprecated.  Use the data-type specific converters pd.to_datetime, pd.to_timedelta and pd.to_numeric.\n",
      "  \"\"\"Entry point for launching an IPython kernel.\n"
     ]
    }
   ],
   "source": [
    "data['counts'] = pd.Series(data['counts']).convert_objects(convert_numeric=True)"
   ]
  },
  {
   "cell_type": "code",
   "execution_count": 108,
   "metadata": {
    "collapsed": true
   },
   "outputs": [],
   "source": [
    "data15 = pd.Series(d2015).rename('counts').rename_axis('filename').reset_index()"
   ]
  },
  {
   "cell_type": "code",
   "execution_count": 109,
   "metadata": {
    "collapsed": true
   },
   "outputs": [],
   "source": [
    "data15.index = data15.index + 1"
   ]
  },
  {
   "cell_type": "code",
   "execution_count": 110,
   "metadata": {},
   "outputs": [
    {
     "data": {
      "text/html": [
       "<div>\n",
       "<style>\n",
       "    .dataframe thead tr:only-child th {\n",
       "        text-align: right;\n",
       "    }\n",
       "\n",
       "    .dataframe thead th {\n",
       "        text-align: left;\n",
       "    }\n",
       "\n",
       "    .dataframe tbody tr th {\n",
       "        vertical-align: top;\n",
       "    }\n",
       "</style>\n",
       "<table border=\"1\" class=\"dataframe\">\n",
       "  <thead>\n",
       "    <tr style=\"text-align: right;\">\n",
       "      <th></th>\n",
       "      <th>month</th>\n",
       "      <th>filename</th>\n",
       "      <th>counts</th>\n",
       "    </tr>\n",
       "  </thead>\n",
       "  <tbody>\n",
       "    <tr>\n",
       "      <th>0</th>\n",
       "      <td>1</td>\n",
       "      <td>PUIDATA/201501-citibike-tripdata.csv</td>\n",
       "      <td>285553</td>\n",
       "    </tr>\n",
       "    <tr>\n",
       "      <th>1</th>\n",
       "      <td>2</td>\n",
       "      <td>PUIDATA/201502-citibike-tripdata.csv</td>\n",
       "      <td>196931</td>\n",
       "    </tr>\n",
       "    <tr>\n",
       "      <th>2</th>\n",
       "      <td>3</td>\n",
       "      <td>PUIDATA/201503-citibike-tripdata.csv</td>\n",
       "      <td>341827</td>\n",
       "    </tr>\n",
       "    <tr>\n",
       "      <th>3</th>\n",
       "      <td>4</td>\n",
       "      <td>PUIDATA/201504-citibike-tripdata.csv</td>\n",
       "      <td>652391</td>\n",
       "    </tr>\n",
       "    <tr>\n",
       "      <th>4</th>\n",
       "      <td>5</td>\n",
       "      <td>PUIDATA/201505-citibike-tripdata.csv</td>\n",
       "      <td>961987</td>\n",
       "    </tr>\n",
       "    <tr>\n",
       "      <th>5</th>\n",
       "      <td>6</td>\n",
       "      <td>PUIDATA/201506-citibike-tripdata.csv</td>\n",
       "      <td>941220</td>\n",
       "    </tr>\n",
       "    <tr>\n",
       "      <th>6</th>\n",
       "      <td>7</td>\n",
       "      <td>PUIDATA/201507-citibike-tripdata.csv</td>\n",
       "      <td>1085677</td>\n",
       "    </tr>\n",
       "    <tr>\n",
       "      <th>7</th>\n",
       "      <td>8</td>\n",
       "      <td>PUIDATA/201508-citibike-tripdata.csv</td>\n",
       "      <td>1179045</td>\n",
       "    </tr>\n",
       "    <tr>\n",
       "      <th>8</th>\n",
       "      <td>9</td>\n",
       "      <td>PUIDATA/201509-citibike-tripdata.csv</td>\n",
       "      <td>1289700</td>\n",
       "    </tr>\n",
       "    <tr>\n",
       "      <th>9</th>\n",
       "      <td>10</td>\n",
       "      <td>PUIDATA/201510-citibike-tripdata.csv</td>\n",
       "      <td>1212278</td>\n",
       "    </tr>\n",
       "    <tr>\n",
       "      <th>10</th>\n",
       "      <td>11</td>\n",
       "      <td>PUIDATA/201511-citibike-tripdata.csv</td>\n",
       "      <td>987246</td>\n",
       "    </tr>\n",
       "    <tr>\n",
       "      <th>11</th>\n",
       "      <td>12</td>\n",
       "      <td>PUIDATA/201512-citibike-tripdata.csv</td>\n",
       "      <td>804126</td>\n",
       "    </tr>\n",
       "  </tbody>\n",
       "</table>\n",
       "</div>"
      ],
      "text/plain": [
       "    month                              filename   counts\n",
       "0       1  PUIDATA/201501-citibike-tripdata.csv   285553\n",
       "1       2  PUIDATA/201502-citibike-tripdata.csv   196931\n",
       "2       3  PUIDATA/201503-citibike-tripdata.csv   341827\n",
       "3       4  PUIDATA/201504-citibike-tripdata.csv   652391\n",
       "4       5  PUIDATA/201505-citibike-tripdata.csv   961987\n",
       "5       6  PUIDATA/201506-citibike-tripdata.csv   941220\n",
       "6       7  PUIDATA/201507-citibike-tripdata.csv  1085677\n",
       "7       8  PUIDATA/201508-citibike-tripdata.csv  1179045\n",
       "8       9  PUIDATA/201509-citibike-tripdata.csv  1289700\n",
       "9      10  PUIDATA/201510-citibike-tripdata.csv  1212278\n",
       "10     11  PUIDATA/201511-citibike-tripdata.csv   987246\n",
       "11     12  PUIDATA/201512-citibike-tripdata.csv   804126"
      ]
     },
     "execution_count": 110,
     "metadata": {},
     "output_type": "execute_result"
    }
   ],
   "source": [
    "data15.reset_index(inplace = True)\n",
    "data15.columns = ['month','filename','counts']\n",
    "data15"
   ]
  },
  {
   "cell_type": "code",
   "execution_count": 152,
   "metadata": {
    "collapsed": true
   },
   "outputs": [],
   "source": [
    "data16 = pd.Series(d2016).rename('counts').rename_axis('filename').reset_index()"
   ]
  },
  {
   "cell_type": "code",
   "execution_count": 153,
   "metadata": {
    "collapsed": true
   },
   "outputs": [],
   "source": [
    "data16.index = data16.index + 1"
   ]
  },
  {
   "cell_type": "code",
   "execution_count": 154,
   "metadata": {},
   "outputs": [
    {
     "data": {
      "text/html": [
       "<div>\n",
       "<style>\n",
       "    .dataframe thead tr:only-child th {\n",
       "        text-align: right;\n",
       "    }\n",
       "\n",
       "    .dataframe thead th {\n",
       "        text-align: left;\n",
       "    }\n",
       "\n",
       "    .dataframe tbody tr th {\n",
       "        vertical-align: top;\n",
       "    }\n",
       "</style>\n",
       "<table border=\"1\" class=\"dataframe\">\n",
       "  <thead>\n",
       "    <tr style=\"text-align: right;\">\n",
       "      <th></th>\n",
       "      <th>month</th>\n",
       "      <th>filename</th>\n",
       "      <th>counts</th>\n",
       "    </tr>\n",
       "  </thead>\n",
       "  <tbody>\n",
       "    <tr>\n",
       "      <th>0</th>\n",
       "      <td>1</td>\n",
       "      <td>PUIDATA/201601-citibike-tripdata.csv</td>\n",
       "      <td>509479</td>\n",
       "    </tr>\n",
       "    <tr>\n",
       "      <th>1</th>\n",
       "      <td>2</td>\n",
       "      <td>PUIDATA/201602-citibike-tripdata.csv</td>\n",
       "      <td>560875</td>\n",
       "    </tr>\n",
       "    <tr>\n",
       "      <th>2</th>\n",
       "      <td>3</td>\n",
       "      <td>PUIDATA/201603-citibike-tripdata.csv</td>\n",
       "      <td>919922</td>\n",
       "    </tr>\n",
       "    <tr>\n",
       "      <th>3</th>\n",
       "      <td>4</td>\n",
       "      <td>PUIDATA/201604-citibike-tripdata.csv</td>\n",
       "      <td>1013150</td>\n",
       "    </tr>\n",
       "    <tr>\n",
       "      <th>4</th>\n",
       "      <td>5</td>\n",
       "      <td>PUIDATA/201605-citibike-tripdata.csv</td>\n",
       "      <td>1212281</td>\n",
       "    </tr>\n",
       "    <tr>\n",
       "      <th>5</th>\n",
       "      <td>6</td>\n",
       "      <td>PUIDATA/201606-citibike-tripdata.csv</td>\n",
       "      <td>1460319</td>\n",
       "    </tr>\n",
       "    <tr>\n",
       "      <th>6</th>\n",
       "      <td>7</td>\n",
       "      <td>PUIDATA/201607-citibike-tripdata.csv</td>\n",
       "      <td>1380111</td>\n",
       "    </tr>\n",
       "    <tr>\n",
       "      <th>7</th>\n",
       "      <td>8</td>\n",
       "      <td>PUIDATA/201608-citibike-tripdata.csv</td>\n",
       "      <td>1557664</td>\n",
       "    </tr>\n",
       "    <tr>\n",
       "      <th>8</th>\n",
       "      <td>9</td>\n",
       "      <td>PUIDATA/201609-citibike-tripdata.csv</td>\n",
       "      <td>1648857</td>\n",
       "    </tr>\n",
       "    <tr>\n",
       "      <th>9</th>\n",
       "      <td>10</td>\n",
       "      <td>PUIDATA/201610-citibike-tripdata.csv</td>\n",
       "      <td>1573873</td>\n",
       "    </tr>\n",
       "    <tr>\n",
       "      <th>10</th>\n",
       "      <td>11</td>\n",
       "      <td>PUIDATA/201611-citibike-tripdata.csv</td>\n",
       "      <td>1196943</td>\n",
       "    </tr>\n",
       "    <tr>\n",
       "      <th>11</th>\n",
       "      <td>12</td>\n",
       "      <td>PUIDATA/201612-citibike-tripdata.csv</td>\n",
       "      <td>812193</td>\n",
       "    </tr>\n",
       "  </tbody>\n",
       "</table>\n",
       "</div>"
      ],
      "text/plain": [
       "    month                              filename   counts\n",
       "0       1  PUIDATA/201601-citibike-tripdata.csv   509479\n",
       "1       2  PUIDATA/201602-citibike-tripdata.csv   560875\n",
       "2       3  PUIDATA/201603-citibike-tripdata.csv   919922\n",
       "3       4  PUIDATA/201604-citibike-tripdata.csv  1013150\n",
       "4       5  PUIDATA/201605-citibike-tripdata.csv  1212281\n",
       "5       6  PUIDATA/201606-citibike-tripdata.csv  1460319\n",
       "6       7  PUIDATA/201607-citibike-tripdata.csv  1380111\n",
       "7       8  PUIDATA/201608-citibike-tripdata.csv  1557664\n",
       "8       9  PUIDATA/201609-citibike-tripdata.csv  1648857\n",
       "9      10  PUIDATA/201610-citibike-tripdata.csv  1573873\n",
       "10     11  PUIDATA/201611-citibike-tripdata.csv  1196943\n",
       "11     12  PUIDATA/201612-citibike-tripdata.csv   812193"
      ]
     },
     "execution_count": 154,
     "metadata": {},
     "output_type": "execute_result"
    }
   ],
   "source": [
    "data16.reset_index(inplace = True)\n",
    "data16.columns = ['month','filename','counts']\n",
    "data16"
   ]
  },
  {
   "cell_type": "markdown",
   "metadata": {},
   "source": [
    "## II.Merge Year Data"
   ]
  },
  {
   "cell_type": "code",
   "execution_count": 173,
   "metadata": {
    "scrolled": true
   },
   "outputs": [],
   "source": [
    "#2014\n",
    "fout=open(\"merge2014.csv\",\"a\") #create a new csv file to store data\n",
    "# first file:\n",
    "for line in open(\"PUIDATA/201401-citibike-tripdata.csv\"):\n",
    "    fout.write(line)\n",
    "# now the rest:    \n",
    "for i in range(2,13):\n",
    "    if i <10:\n",
    "        f = open(\"PUIDATA/20140\"+str(i)+\"-citibike-tripdata.csv\")\n",
    "    else:\n",
    "        f = open(\"PUIDATA/2014\"+str(i)+\"-citibike-tripdata.csv\")    \n",
    "    f.next() # skip the header\n",
    "    for line in f:\n",
    "         fout.write(line)\n",
    "    f.close() # not really needed\n",
    "fout.close()"
   ]
  },
  {
   "cell_type": "code",
   "execution_count": 196,
   "metadata": {
    "collapsed": true
   },
   "outputs": [],
   "source": [
    "#2015\n",
    "fout=open(\"merge2015.csv\",\"a\") #create a new csv file to store data\n",
    "# first file:\n",
    "for line in open(\"PUIDATA/201501-citibike-tripdata.csv\"):\n",
    "    fout.write(line)\n",
    "# now the rest:    \n",
    "for i in range(2,13):\n",
    "    if i <10:\n",
    "        f = open(\"PUIDATA/20150\"+str(i)+\"-citibike-tripdata.csv\")\n",
    "    else:\n",
    "        f = open(\"PUIDATA/2015\"+str(i)+\"-citibike-tripdata.csv\")    \n",
    "    f.next() # skip the header\n",
    "    for line in f:\n",
    "         fout.write(line)\n",
    "    f.close() # not really needed\n",
    "fout.close()"
   ]
  },
  {
   "cell_type": "code",
   "execution_count": 197,
   "metadata": {
    "collapsed": true
   },
   "outputs": [],
   "source": [
    "#2016\n",
    "fout=open(\"merge2016.csv\",\"a\") #create a new csv file to store data\n",
    "# first file:\n",
    "for line in open(\"PUIDATA/201601-citibike-tripdata.csv\"):\n",
    "    fout.write(line)\n",
    "# now the rest:    \n",
    "for i in range(2,13):\n",
    "    if i <10:\n",
    "        f = open(\"PUIDATA/20160\"+str(i)+\"-citibike-tripdata.csv\")\n",
    "    else:\n",
    "        f = open(\"PUIDATA/2016\"+str(i)+\"-citibike-tripdata.csv\")    \n",
    "    f.next() # skip the header\n",
    "    for line in f:\n",
    "         fout.write(line)\n",
    "    f.close() # not really needed\n",
    "fout.close()"
   ]
  },
  {
   "cell_type": "code",
   "execution_count": 175,
   "metadata": {},
   "outputs": [],
   "source": [
    "Year14 = pd.read_csv('merge2014.csv')"
   ]
  },
  {
   "cell_type": "code",
   "execution_count": 176,
   "metadata": {},
   "outputs": [
    {
     "data": {
      "text/plain": [
       "(8081216, 15)"
      ]
     },
     "execution_count": 176,
     "metadata": {},
     "output_type": "execute_result"
    }
   ],
   "source": [
    "Year14.shape"
   ]
  },
  {
   "cell_type": "code",
   "execution_count": 177,
   "metadata": {},
   "outputs": [
    {
     "data": {
      "text/plain": [
       "Index([u'tripduration', u'starttime', u'stoptime', u'start station id',\n",
       "       u'start station name', u'start station latitude',\n",
       "       u'start station longitude', u'end station id', u'end station name',\n",
       "       u'end station latitude', u'end station longitude', u'bikeid',\n",
       "       u'usertype', u'birth year', u'gender'],\n",
       "      dtype='object')"
      ]
     },
     "execution_count": 177,
     "metadata": {},
     "output_type": "execute_result"
    }
   ],
   "source": [
    "Year14.columns"
   ]
  },
  {
   "cell_type": "code",
   "execution_count": 178,
   "metadata": {
    "collapsed": true
   },
   "outputs": [],
   "source": [
    "#select what we need\n",
    "T2014 = Year14[['starttime']]"
   ]
  },
  {
   "cell_type": "code",
   "execution_count": 179,
   "metadata": {
    "scrolled": false
   },
   "outputs": [
    {
     "name": "stderr",
     "output_type": "stream",
     "text": [
      "/anaconda2/lib/python2.7/site-packages/ipykernel_launcher.py:1: SettingWithCopyWarning: \n",
      "A value is trying to be set on a copy of a slice from a DataFrame.\n",
      "Try using .loc[row_indexer,col_indexer] = value instead\n",
      "\n",
      "See the caveats in the documentation: http://pandas.pydata.org/pandas-docs/stable/indexing.html#indexing-view-versus-copy\n",
      "  \"\"\"Entry point for launching an IPython kernel.\n"
     ]
    },
    {
     "data": {
      "text/html": [
       "<div>\n",
       "<style>\n",
       "    .dataframe thead tr:only-child th {\n",
       "        text-align: right;\n",
       "    }\n",
       "\n",
       "    .dataframe thead th {\n",
       "        text-align: left;\n",
       "    }\n",
       "\n",
       "    .dataframe tbody tr th {\n",
       "        vertical-align: top;\n",
       "    }\n",
       "</style>\n",
       "<table border=\"1\" class=\"dataframe\">\n",
       "  <thead>\n",
       "    <tr style=\"text-align: right;\">\n",
       "      <th></th>\n",
       "      <th>starttime</th>\n",
       "    </tr>\n",
       "  </thead>\n",
       "  <tbody>\n",
       "    <tr>\n",
       "      <th>0</th>\n",
       "      <td>2014-01-01 00:00:06</td>\n",
       "    </tr>\n",
       "    <tr>\n",
       "      <th>1</th>\n",
       "      <td>2014-01-01 00:00:38</td>\n",
       "    </tr>\n",
       "    <tr>\n",
       "      <th>2</th>\n",
       "      <td>2014-01-01 00:03:59</td>\n",
       "    </tr>\n",
       "    <tr>\n",
       "      <th>3</th>\n",
       "      <td>2014-01-01 00:05:15</td>\n",
       "    </tr>\n",
       "    <tr>\n",
       "      <th>4</th>\n",
       "      <td>2014-01-01 00:05:18</td>\n",
       "    </tr>\n",
       "  </tbody>\n",
       "</table>\n",
       "</div>"
      ],
      "text/plain": [
       "            starttime\n",
       "0 2014-01-01 00:00:06\n",
       "1 2014-01-01 00:00:38\n",
       "2 2014-01-01 00:03:59\n",
       "3 2014-01-01 00:05:15\n",
       "4 2014-01-01 00:05:18"
      ]
     },
     "execution_count": 179,
     "metadata": {},
     "output_type": "execute_result"
    }
   ],
   "source": [
    "#transform format\n",
    "T2014['starttime'] = pd.to_datetime(T2014['starttime']) #takes 15mins to run this ..\n",
    "T2014.head()"
   ]
  },
  {
   "cell_type": "code",
   "execution_count": 212,
   "metadata": {
    "scrolled": true
   },
   "outputs": [],
   "source": [
    "T2014.to_csv('T2014.csv') #store for future use"
   ]
  },
  {
   "cell_type": "code",
   "execution_count": 199,
   "metadata": {
    "collapsed": true
   },
   "outputs": [],
   "source": [
    "Year15 = pd.read_csv('merge2015.csv')"
   ]
  },
  {
   "cell_type": "code",
   "execution_count": 200,
   "metadata": {},
   "outputs": [
    {
     "data": {
      "text/plain": [
       "(9937969, 15)"
      ]
     },
     "execution_count": 200,
     "metadata": {},
     "output_type": "execute_result"
    }
   ],
   "source": [
    "Year15.shape"
   ]
  },
  {
   "cell_type": "code",
   "execution_count": 201,
   "metadata": {},
   "outputs": [
    {
     "data": {
      "text/plain": [
       "Index([u'tripduration', u'starttime', u'stoptime', u'start station id',\n",
       "       u'start station name', u'start station latitude',\n",
       "       u'start station longitude', u'end station id', u'end station name',\n",
       "       u'end station latitude', u'end station longitude', u'bikeid',\n",
       "       u'usertype', u'birth year', u'gender'],\n",
       "      dtype='object')"
      ]
     },
     "execution_count": 201,
     "metadata": {},
     "output_type": "execute_result"
    }
   ],
   "source": [
    "Year15.columns"
   ]
  },
  {
   "cell_type": "code",
   "execution_count": 202,
   "metadata": {
    "collapsed": true
   },
   "outputs": [],
   "source": [
    "#select what we need\n",
    "T2015 = Year15[['starttime']]"
   ]
  },
  {
   "cell_type": "code",
   "execution_count": 203,
   "metadata": {},
   "outputs": [
    {
     "name": "stderr",
     "output_type": "stream",
     "text": [
      "/anaconda2/lib/python2.7/site-packages/ipykernel_launcher.py:2: SettingWithCopyWarning: \n",
      "A value is trying to be set on a copy of a slice from a DataFrame.\n",
      "Try using .loc[row_indexer,col_indexer] = value instead\n",
      "\n",
      "See the caveats in the documentation: http://pandas.pydata.org/pandas-docs/stable/indexing.html#indexing-view-versus-copy\n",
      "  \n"
     ]
    },
    {
     "data": {
      "text/html": [
       "<div>\n",
       "<style>\n",
       "    .dataframe thead tr:only-child th {\n",
       "        text-align: right;\n",
       "    }\n",
       "\n",
       "    .dataframe thead th {\n",
       "        text-align: left;\n",
       "    }\n",
       "\n",
       "    .dataframe tbody tr th {\n",
       "        vertical-align: top;\n",
       "    }\n",
       "</style>\n",
       "<table border=\"1\" class=\"dataframe\">\n",
       "  <thead>\n",
       "    <tr style=\"text-align: right;\">\n",
       "      <th></th>\n",
       "      <th>starttime</th>\n",
       "    </tr>\n",
       "  </thead>\n",
       "  <tbody>\n",
       "    <tr>\n",
       "      <th>0</th>\n",
       "      <td>2015-01-01 00:01:00</td>\n",
       "    </tr>\n",
       "    <tr>\n",
       "      <th>1</th>\n",
       "      <td>2015-01-01 00:02:00</td>\n",
       "    </tr>\n",
       "    <tr>\n",
       "      <th>2</th>\n",
       "      <td>2015-01-01 00:04:00</td>\n",
       "    </tr>\n",
       "    <tr>\n",
       "      <th>3</th>\n",
       "      <td>2015-01-01 00:04:00</td>\n",
       "    </tr>\n",
       "    <tr>\n",
       "      <th>4</th>\n",
       "      <td>2015-01-01 00:05:00</td>\n",
       "    </tr>\n",
       "  </tbody>\n",
       "</table>\n",
       "</div>"
      ],
      "text/plain": [
       "            starttime\n",
       "0 2015-01-01 00:01:00\n",
       "1 2015-01-01 00:02:00\n",
       "2 2015-01-01 00:04:00\n",
       "3 2015-01-01 00:04:00\n",
       "4 2015-01-01 00:05:00"
      ]
     },
     "execution_count": 203,
     "metadata": {},
     "output_type": "execute_result"
    }
   ],
   "source": [
    "#transform format\n",
    "T2015['starttime'] = pd.to_datetime(T2015['starttime']) #takes 50mins to run this ..\n",
    "T2015.head()"
   ]
  },
  {
   "cell_type": "code",
   "execution_count": 213,
   "metadata": {
    "collapsed": true
   },
   "outputs": [],
   "source": [
    "T2015.to_csv('T2015.csv') #store for future use"
   ]
  },
  {
   "cell_type": "code",
   "execution_count": 204,
   "metadata": {
    "collapsed": true
   },
   "outputs": [],
   "source": [
    "Year16 = pd.read_csv('merge2016.csv')"
   ]
  },
  {
   "cell_type": "code",
   "execution_count": 205,
   "metadata": {},
   "outputs": [
    {
     "data": {
      "text/plain": [
       "(13845655, 15)"
      ]
     },
     "execution_count": 205,
     "metadata": {},
     "output_type": "execute_result"
    }
   ],
   "source": [
    "Year16.shape"
   ]
  },
  {
   "cell_type": "code",
   "execution_count": 206,
   "metadata": {},
   "outputs": [
    {
     "data": {
      "text/plain": [
       "Index([u'tripduration', u'starttime', u'stoptime', u'start station id',\n",
       "       u'start station name', u'start station latitude',\n",
       "       u'start station longitude', u'end station id', u'end station name',\n",
       "       u'end station latitude', u'end station longitude', u'bikeid',\n",
       "       u'usertype', u'birth year', u'gender'],\n",
       "      dtype='object')"
      ]
     },
     "execution_count": 206,
     "metadata": {},
     "output_type": "execute_result"
    }
   ],
   "source": [
    "Year16.columns"
   ]
  },
  {
   "cell_type": "code",
   "execution_count": 207,
   "metadata": {
    "collapsed": true
   },
   "outputs": [],
   "source": [
    "#select what we need\n",
    "T2016 = Year16[['starttime']]"
   ]
  },
  {
   "cell_type": "code",
   "execution_count": 233,
   "metadata": {},
   "outputs": [
    {
     "name": "stderr",
     "output_type": "stream",
     "text": [
      "/anaconda2/lib/python2.7/site-packages/ipykernel_launcher.py:2: SettingWithCopyWarning: \n",
      "A value is trying to be set on a copy of a slice from a DataFrame.\n",
      "Try using .loc[row_indexer,col_indexer] = value instead\n",
      "\n",
      "See the caveats in the documentation: http://pandas.pydata.org/pandas-docs/stable/indexing.html#indexing-view-versus-copy\n",
      "  \n"
     ]
    },
    {
     "data": {
      "text/html": [
       "<div>\n",
       "<style>\n",
       "    .dataframe thead tr:only-child th {\n",
       "        text-align: right;\n",
       "    }\n",
       "\n",
       "    .dataframe thead th {\n",
       "        text-align: left;\n",
       "    }\n",
       "\n",
       "    .dataframe tbody tr th {\n",
       "        vertical-align: top;\n",
       "    }\n",
       "</style>\n",
       "<table border=\"1\" class=\"dataframe\">\n",
       "  <thead>\n",
       "    <tr style=\"text-align: right;\">\n",
       "      <th></th>\n",
       "      <th>starttime</th>\n",
       "    </tr>\n",
       "  </thead>\n",
       "  <tbody>\n",
       "    <tr>\n",
       "      <th>0</th>\n",
       "      <td>2016-01-01 00:00:41</td>\n",
       "    </tr>\n",
       "    <tr>\n",
       "      <th>1</th>\n",
       "      <td>2016-01-01 00:00:45</td>\n",
       "    </tr>\n",
       "    <tr>\n",
       "      <th>2</th>\n",
       "      <td>2016-01-01 00:00:48</td>\n",
       "    </tr>\n",
       "    <tr>\n",
       "      <th>3</th>\n",
       "      <td>2016-01-01 00:01:06</td>\n",
       "    </tr>\n",
       "    <tr>\n",
       "      <th>4</th>\n",
       "      <td>2016-01-01 00:01:12</td>\n",
       "    </tr>\n",
       "  </tbody>\n",
       "</table>\n",
       "</div>"
      ],
      "text/plain": [
       "            starttime\n",
       "0 2016-01-01 00:00:41\n",
       "1 2016-01-01 00:00:45\n",
       "2 2016-01-01 00:00:48\n",
       "3 2016-01-01 00:01:06\n",
       "4 2016-01-01 00:01:12"
      ]
     },
     "execution_count": 233,
     "metadata": {},
     "output_type": "execute_result"
    }
   ],
   "source": [
    "#transform format\n",
    "T2016['starttime'] = pd.to_datetime(T2016['starttime']) #takes 50mins to run this ..\n",
    "T2016.head()"
   ]
  },
  {
   "cell_type": "code",
   "execution_count": 239,
   "metadata": {
    "collapsed": true
   },
   "outputs": [],
   "source": [
    "T2016.to_csv('T2016.csv') #store for future use"
   ]
  },
  {
   "cell_type": "markdown",
   "metadata": {},
   "source": [
    "## III.Visualization - yearly"
   ]
  },
  {
   "cell_type": "code",
   "execution_count": 183,
   "metadata": {},
   "outputs": [
    {
     "name": "stdout",
     "output_type": "stream",
     "text": [
      "Object `pl.set_ticklabels` not found.\n"
     ]
    }
   ],
   "source": [
    "pl.set"
   ]
  },
  {
   "cell_type": "code",
   "execution_count": 299,
   "metadata": {},
   "outputs": [],
   "source": [
    "y = T2014['starttime'].groupby([T2014['starttime'].dt.hour]).count()\n",
    "x = numpy.arange(24)"
   ]
  },
  {
   "cell_type": "code",
   "execution_count": 300,
   "metadata": {
    "scrolled": false
   },
   "outputs": [
    {
     "data": {
      "image/png": "[encoded data removed]",
      "text/plain": [
       "<matplotlib.figure.Figure at 0x126561a10>"
      ]
     },
     "metadata": {},
     "output_type": "display_data"
    }
   ],
   "source": [
    "#2014 absolute number \n",
    "fig = pl.figure(figsize(15,10))\n",
    "\n",
    "#instad of plotting with matplotlib i.e. plot() i use the plot method in pandas\n",
    "norm_w = 1\n",
    "ax = ((T2014['starttime'].groupby([T2014['starttime'].dt.hour]).count()) / norm_w).plot(kind=\"bar\", \n",
    "                                                                                         color='#3782CC')\n",
    "\n",
    "for i,j in zip(x,y):\n",
    "    ax.annotate(str(j),xy=(i-0.5,j+2000))\n",
    "\n",
    "ax.xaxis.set_ticklabels(['0:00', '1:00', '2:00', '3:00', '4:00', '5:00', '6:00','7:00','8:00','9:00','10:00','11:00','12:00','13:00','14:00','15:00','16:00','17:00',\\\n",
    "                               '18:00','19:00','20:00','21:00','22:00','23:00'], fontsize=12, rotation=45)\n",
    "\n",
    "pl.xlabel(\"Start Time\", fontsize=20)\n",
    "pl.ylabel(\"Trip Counts\", fontsize=20)\n",
    "plt.title(\"2014 CitiBiker Starttime Distribution\",fontsize = 20,weight = 'bold')\n",
    "pl.show()\n",
    "fig.savefig('CB2014Dtime.png')"
   ]
  },
  {
   "cell_type": "markdown",
   "metadata": {},
   "source": [
    "### Figure1.Distribution of Citibikers' starttime 2014 \n",
    "The two peak of citibike users ride is 8:00-9:00AM and 17:00 - 18:00."
   ]
  },
  {
   "cell_type": "code",
   "execution_count": 301,
   "metadata": {
    "scrolled": false
   },
   "outputs": [
    {
     "data": {
      "image/png": "[encoded data removed]",
      "text/plain": [
       "<matplotlib.figure.Figure at 0x12566b850>"
      ]
     },
     "metadata": {},
     "output_type": "display_data"
    }
   ],
   "source": [
    "#2015 absolute number \n",
    "fig = pl.figure(figsize(15,10))\n",
    "\n",
    "#instad of plotting with matplotlib i.e. plot() i use the plot method in pandas\n",
    "norm_w = 1\n",
    "ax = ((T2015['starttime'].groupby([T2015['starttime'].dt.hour]).count()) / norm_w).plot(kind=\"bar\", color='teal')\n",
    "\n",
    "y = T2015['starttime'].groupby([T2015['starttime'].dt.hour]).count()\n",
    "\n",
    "for i,j in zip(x,y):\n",
    "    ax.annotate(str(j),xy=(i-0.5,j+2000))\n",
    "\n",
    "ax.xaxis.set_ticklabels(['0:00', '1:00', '2:00', '3:00', '4:00', '5:00', '6:00','7:00','8:00','9:00','10:00','11:00','12:00','13:00','14:00','15:00','16:00','17:00',\\\n",
    "                               '18:00','19:00','20:00','21:00','22:00','23:00'], fontsize=12, rotation=45)\n",
    "\n",
    "pl.xlabel(\"Start Time\", fontsize=20)\n",
    "pl.ylabel(\"Trip Counts\", fontsize=20)\n",
    "plt.title(\"2015 CitiBiker Starttime Distribution\",fontsize = 20,weight = 'bold')\n",
    "pl.show()\n",
    "fig.savefig('2015DTime.png')"
   ]
  },
  {
   "cell_type": "markdown",
   "metadata": {},
   "source": [
    "### Figure2.Distribution of Citibikers' starttime 2015\n",
    "The two peak of citibike users ride is 8:00-9:00AM and 17:00 - 18:00."
   ]
  },
  {
   "cell_type": "code",
   "execution_count": 302,
   "metadata": {
    "scrolled": false
   },
   "outputs": [
    {
     "data": {
      "image/png": "[encoded data removed]",
      "text/plain": [
       "<matplotlib.figure.Figure at 0x117957e90>"
      ]
     },
     "metadata": {},
     "output_type": "display_data"
    }
   ],
   "source": [
    "#2016 absolute number \n",
    "fig = pl.figure(figsize(15,10))\n",
    "\n",
    "#instad of plotting with matplotlib i.e. plot() i use the plot method in pandas\n",
    "norm_w = 1\n",
    "ax = ((T2016['starttime'].groupby([T2016['starttime'].dt.hour]).count()) / norm_w).plot(kind=\"bar\", color='mistyrose')\n",
    "\n",
    "y = T2016['starttime'].groupby([T2016['starttime'].dt.hour]).count()\n",
    "\n",
    "for i,j in zip(x,y):\n",
    "    ax.annotate(str(j),xy=(i-0.5,j+4000))\n",
    "\n",
    "ax.xaxis.set_ticklabels(['0:00', '1:00', '2:00', '3:00', '4:00', '5:00', '6:00','7:00','8:00','9:00','10:00','11:00','12:00','13:00','14:00','15:00','16:00','17:00',\\\n",
    "                               '18:00','19:00','20:00','21:00','22:00','23:00'], fontsize=12, rotation=45)\n",
    "\n",
    "pl.xlabel(\"Start Time\", fontsize=20)\n",
    "pl.ylabel(\"Trip Counts\", fontsize=20)\n",
    "plt.title(\"2016 CitiBiker Starttime Distribution\",fontsize = 20,weight = 'bold')\n",
    "pl.show()\n",
    "fig.savefig('CB2016DTime.png')"
   ]
  },
  {
   "cell_type": "markdown",
   "metadata": {},
   "source": [
    "### Figure3.Distribution of Citibikers' starttime 2016\n",
    "The two peak of citibike users ride is 8:00-9:00AM and 17:00 - 18:00."
   ]
  },
  {
   "cell_type": "code",
   "execution_count": 303,
   "metadata": {
    "scrolled": false
   },
   "outputs": [
    {
     "data": {
      "image/png": "[encoded data removed]",
      "text/plain": [
       "<matplotlib.figure.Figure at 0x12690b6d0>"
      ]
     },
     "metadata": {},
     "output_type": "display_data"
    }
   ],
   "source": [
    "#plot together to see the difference\n",
    "fig = pl.figure(figsize(15,10))\n",
    "\n",
    "#instad of plotting with matplotlib i.e. plot() i use the plot method in pandas\n",
    "norm_w = 1\n",
    "ax = ((T2014['starttime'].groupby([T2014['starttime'].dt.hour]).count()) / norm_w).plot(kind=\"bar\", \n",
    "                                                                                         color='#3782CC', label = '2014')\n",
    "\n",
    "ax1 = ((T2015['starttime'].groupby([T2015['starttime'].dt.hour]).count()) / norm_w).plot(kind=\"bar\", color='teal',\n",
    "                                                                                         alpha = 0.5, label = '2015')\n",
    "\n",
    "ax = ((T2016['starttime'].groupby([T2016['starttime'].dt.hour]).count()) / norm_w).plot(kind=\"bar\", color='mistyrose',\n",
    "                                                                                       alpha = 0.7, label = '2016')\n",
    "\n",
    "ax.xaxis.set_ticklabels(['0:00', '1:00', '2:00', '3:00', '4:00', '5:00', '6:00','7:00','8:00','9:00','10:00','11:00','12:00','13:00','14:00','15:00','16:00','17:00',\\\n",
    "                               '18:00','19:00','20:00','21:00','22:00','23:00'], fontsize=12, rotation=45)\n",
    "\n",
    "pl.xlabel(\"Start Time\", fontsize=20)\n",
    "pl.ylabel(\"Trip Counts\", fontsize=20)\n",
    "plt.title(\"2014-2016 CitiBiker Starttime Distribution\",fontsize = 20,weight = 'bold')\n",
    "pl.legend(fontsize = 15)\n",
    "pl.show()\n",
    "fig.savefig('CB2014-2016DTime.png', dpi=100)"
   ]
  },
  {
   "cell_type": "markdown",
   "metadata": {},
   "source": [
    "### Figure4.Distribution of Citibikers' starttime 2014 - 2016\n",
    "Combine the three year data, we can conclude that the two peak of citibike users ride is 8:00-9:00AM and 17:00 - 18:00."
   ]
  },
  {
   "cell_type": "markdown",
   "metadata": {},
   "source": [
    "* descriptive stats, eg. mean / standard deviation"
   ]
  },
  {
   "cell_type": "code",
   "execution_count": 307,
   "metadata": {},
   "outputs": [
    {
     "data": {
      "text/html": [
       "<div>\n",
       "<style>\n",
       "    .dataframe thead tr:only-child th {\n",
       "        text-align: right;\n",
       "    }\n",
       "\n",
       "    .dataframe thead th {\n",
       "        text-align: left;\n",
       "    }\n",
       "\n",
       "    .dataframe tbody tr th {\n",
       "        vertical-align: top;\n",
       "    }\n",
       "</style>\n",
       "<table border=\"1\" class=\"dataframe\">\n",
       "  <thead>\n",
       "    <tr style=\"text-align: right;\">\n",
       "      <th></th>\n",
       "      <th>month</th>\n",
       "      <th>filename</th>\n",
       "      <th>counts</th>\n",
       "    </tr>\n",
       "  </thead>\n",
       "  <tbody>\n",
       "    <tr>\n",
       "      <th>0</th>\n",
       "      <td>1</td>\n",
       "      <td>PUIDATA/201401-citibike-tripdata.csv</td>\n",
       "      <td>300401</td>\n",
       "    </tr>\n",
       "    <tr>\n",
       "      <th>1</th>\n",
       "      <td>2</td>\n",
       "      <td>PUIDATA/201402-citibike-tripdata.csv</td>\n",
       "      <td>224737</td>\n",
       "    </tr>\n",
       "    <tr>\n",
       "      <th>2</th>\n",
       "      <td>3</td>\n",
       "      <td>PUIDATA/201403-citibike-tripdata.csv</td>\n",
       "      <td>439118</td>\n",
       "    </tr>\n",
       "    <tr>\n",
       "      <th>3</th>\n",
       "      <td>4</td>\n",
       "      <td>PUIDATA/201404-citibike-tripdata.csv</td>\n",
       "      <td>670781</td>\n",
       "    </tr>\n",
       "    <tr>\n",
       "      <th>4</th>\n",
       "      <td>5</td>\n",
       "      <td>PUIDATA/201405-citibike-tripdata.csv</td>\n",
       "      <td>866118</td>\n",
       "    </tr>\n",
       "  </tbody>\n",
       "</table>\n",
       "</div>"
      ],
      "text/plain": [
       "   month                              filename  counts\n",
       "0      1  PUIDATA/201401-citibike-tripdata.csv  300401\n",
       "1      2  PUIDATA/201402-citibike-tripdata.csv  224737\n",
       "2      3  PUIDATA/201403-citibike-tripdata.csv  439118\n",
       "3      4  PUIDATA/201404-citibike-tripdata.csv  670781\n",
       "4      5  PUIDATA/201405-citibike-tripdata.csv  866118"
      ]
     },
     "execution_count": 307,
     "metadata": {},
     "output_type": "execute_result"
    }
   ],
   "source": [
    "data.head()"
   ]
  },
  {
   "cell_type": "code",
   "execution_count": 318,
   "metadata": {},
   "outputs": [
    {
     "data": {
      "text/plain": [
       "count        12.000000\n",
       "mean     673435.666667\n",
       "std      281581.891388\n",
       "min      224737.000000\n",
       "25%      429106.000000\n",
       "50%      749746.500000\n",
       "75%      941132.750000\n",
       "max      968843.000000\n",
       "Name: counts, dtype: float64"
      ]
     },
     "execution_count": 318,
     "metadata": {},
     "output_type": "execute_result"
    }
   ],
   "source": [
    "data.counts.describe()"
   ]
  },
  {
   "cell_type": "code",
   "execution_count": 333,
   "metadata": {},
   "outputs": [
    {
     "name": "stdout",
     "output_type": "stream",
     "text": [
      "('The mean trip counts in 2014 each month is 673435', 'and std is 281581')\n"
     ]
    }
   ],
   "source": [
    "a = data.counts.describe()\n",
    "print('The mean trip counts in 2014 each month is %d'%a[1], 'and std is %d'%a[2])"
   ]
  },
  {
   "cell_type": "code",
   "execution_count": 294,
   "metadata": {
    "scrolled": false
   },
   "outputs": [
    {
     "data": {
      "image/png": "[encoded data removed]",
      "text/plain": [
       "<matplotlib.figure.Figure at 0x126908550>"
      ]
     },
     "metadata": {},
     "output_type": "display_data"
    }
   ],
   "source": [
    "#2014\n",
    "fig1 = plt.figure(figsize(10,5))\n",
    "\n",
    "plt.plot(data.month, data.counts,'yo-', markersize = 10 )\n",
    "plt.plot(data.month[data.counts == max(data.counts)],max(data.counts), 'ro', markersize = 10)\n",
    "plt.plot(data.month[data.counts == min(data.counts)],min(data.counts), 'ko', markersize = 10)\n",
    "plt.xticks(data.month, data.month, fontsize = 15)\n",
    "plt.xlabel(\"Months\",fontsize = 15,weight = 'bold')\n",
    "plt.ylabel(\"Trip Counts\",fontsize = 15,weight = 'bold')\n",
    "plt.title(\"2014 Year New York City CitiBike Trip Counts\",fontsize = 20,weight = 'bold')\n",
    "plt.show()\n",
    "fig1.savefig('14Mcounts.png', dpi=100)"
   ]
  },
  {
   "cell_type": "markdown",
   "metadata": {},
   "source": [
    "### Figure5.2014 Year New York City CitiBike Trip Counts\n",
    "The red dot indicates that July has the highest Citi Bike trip counts, the black dot indicates that February has the highest Citi Bike trip counts, and this plot also indicates number of summer trips are higher than winter trips."
   ]
  },
  {
   "cell_type": "code",
   "execution_count": 335,
   "metadata": {
    "scrolled": true
   },
   "outputs": [
    {
     "name": "stdout",
     "output_type": "stream",
     "text": [
      "('The mean trip counts in 2015 each month is 828165', 'and std is 377415')\n"
     ]
    }
   ],
   "source": [
    "b = data15.counts.describe()\n",
    "print('The mean trip counts in 2015 each month is %d'%b[1], 'and std is %d'%b[2])"
   ]
  },
  {
   "cell_type": "code",
   "execution_count": 280,
   "metadata": {},
   "outputs": [
    {
     "data": {
      "image/png": "[encoded data removed]",
      "text/plain": [
       "<matplotlib.figure.Figure at 0x11ab2b110>"
      ]
     },
     "metadata": {},
     "output_type": "display_data"
    }
   ],
   "source": [
    "#2015\n",
    "fig2 = plt.figure(figsize(10,5))\n",
    "plt.plot(data15.month, data15.counts,'co-', markersize = 10 )\n",
    "plt.plot(data15.month[data15.counts == max(data15.counts)],max(data15.counts), 'ro', markersize = 10)\n",
    "plt.plot(data15.month[data15.counts == min(data15.counts)],min(data15.counts), 'ko', markersize = 10)\n",
    "plt.xticks(data15.month, data15.month, fontsize = 15)\n",
    "plt.xlabel(\"Months\",fontsize = 15,weight = 'bold')\n",
    "plt.ylabel(\"Trip Counts\",fontsize = 15,weight = 'bold')\n",
    "plt.title(\"2015 Year New York City CitiBike Trip Counts\",fontsize = 20,weight = 'bold')\n",
    "plt.show()\n",
    "fig2.savefig('15Mcounts.png')"
   ]
  },
  {
   "cell_type": "markdown",
   "metadata": {},
   "source": [
    "### Figure6.2015 Year New York City CitiBike Trip Counts\n",
    "The red dot indicates that September has the highest Citi Bike trip counts, the black dot indicates that Ferbuary has the highest Citi Bike trip counts, and this plot also indicates number of summer trips are higher than winter trips."
   ]
  },
  {
   "cell_type": "code",
   "execution_count": 336,
   "metadata": {
    "scrolled": true
   },
   "outputs": [
    {
     "name": "stdout",
     "output_type": "stream",
     "text": [
      "('The mean trip counts in 2016 each month is 1153805', 'and std is 392310')\n"
     ]
    }
   ],
   "source": [
    "c = data16.counts.describe()\n",
    "print('The mean trip counts in 2016 each month is %d'%c[1], 'and std is %d'%c[2])"
   ]
  },
  {
   "cell_type": "code",
   "execution_count": 281,
   "metadata": {},
   "outputs": [
    {
     "data": {
      "image/png": "[encoded data removed]",
      "text/plain": [
       "<matplotlib.figure.Figure at 0x12537a890>"
      ]
     },
     "metadata": {},
     "output_type": "display_data"
    }
   ],
   "source": [
    "#2016\n",
    "fig3 = plt.figure(figsize(10,5))\n",
    "plt.plot(data16.month, data16.counts,'go-', markersize = 10 )\n",
    "plt.plot(data16.month[data16.counts == max(data16.counts)],max(data16.counts), 'ro', markersize = 10)\n",
    "plt.plot(data16.month[data16.counts == min(data16.counts)],min(data16.counts), 'ko', markersize = 10)\n",
    "plt.xticks(data16.month, data16.month, fontsize = 15)\n",
    "plt.xlabel(\"Months\",fontsize = 15,weight = 'bold')\n",
    "plt.ylabel(\"Trip Counts\",fontsize = 15,weight = 'bold')\n",
    "plt.title(\"2016 Year New York City CitiBike Trip Counts\",fontsize = 20,weight = 'bold')\n",
    "plt.show()\n",
    "fig3.savefig('16Mcounts.png')"
   ]
  },
  {
   "cell_type": "markdown",
   "metadata": {},
   "source": [
    "### Figure7.2016 Year New York City CitiBike Trip Counts\n",
    "The red dot indicates that September has the highest Citi Bike trip counts, the black dot indicates that January has the highest Citi Bike trip counts, and this plot also indicates number of summer trips are higher than winter trips."
   ]
  },
  {
   "cell_type": "code",
   "execution_count": 338,
   "metadata": {},
   "outputs": [
    {
     "name": "stdout",
     "output_type": "stream",
     "text": [
      "('The mean trip counts in 2014 each month is 673435', 'and std is 281581')\n",
      "('The mean trip counts in 2015 each month is 828165', 'and std is 377415')\n",
      "('The mean trip counts in 2016 each month is 1153805', 'and std is 392310')\n"
     ]
    }
   ],
   "source": [
    "a = data.counts.describe()\n",
    "print('The mean trip counts in 2014 each month is %d'%a[1], 'and std is %d'%a[2])\n",
    "b = data15.counts.describe()\n",
    "print('The mean trip counts in 2015 each month is %d'%b[1], 'and std is %d'%b[2])\n",
    "c = data16.counts.describe()\n",
    "print('The mean trip counts in 2016 each month is %d'%c[1], 'and std is %d'%c[2])"
   ]
  },
  {
   "cell_type": "code",
   "execution_count": 282,
   "metadata": {
    "scrolled": true
   },
   "outputs": [
    {
     "data": {
      "image/png": "[encoded data removed]",
      "text/plain": [
       "<matplotlib.figure.Figure at 0x116ca7110>"
      ]
     },
     "metadata": {},
     "output_type": "display_data"
    }
   ],
   "source": [
    "#2014-2016\n",
    "fig4 = plt.figure(figsize(10,5))\n",
    "plt.plot(data.month, data.counts,'yo-', markersize = 10, alpha = 0.8, label = '2014' )\n",
    "plt.plot(data.month[data.counts == max(data.counts)],max(data.counts), 'ro', markersize = 10)\n",
    "plt.plot(data.month[data.counts == min(data.counts)],min(data.counts), 'ko', markersize = 10)\n",
    "\n",
    "plt.plot(data15.month, data15.counts,'co-', markersize = 10, alpha = 0.8, label = '2015'  )\n",
    "plt.plot(data15.month[data15.counts == max(data15.counts)],max(data15.counts), 'ro', markersize = 10)\n",
    "plt.plot(data15.month[data15.counts == min(data15.counts)],min(data15.counts), 'ko', markersize = 10)\n",
    "\n",
    "plt.plot(data16.month, data16.counts,'go-', markersize = 10, alpha = 0.8, label = '2016')\n",
    "plt.plot(data16.month[data16.counts == max(data16.counts)],max(data16.counts), 'ro', markersize = 10)\n",
    "plt.plot(data16.month[data16.counts == min(data16.counts)],min(data16.counts), 'ko', markersize = 10)\n",
    "\n",
    "plt.xticks(data.month, data.month, fontsize = 15 )\n",
    "plt.xlabel(\"Months\",fontsize = 15,weight = 'bold')\n",
    "plt.ylabel(\"Trip Counts\",fontsize = 15,weight = 'bold')\n",
    "plt.title(\"2014-2016 Year New York City CitiBike Trip Counts\",fontsize = 20,weight = 'bold')\n",
    "plt.legend()\n",
    "plt.show()\n",
    "fig4.savefig('2014-2016Mcounts.png')"
   ]
  },
  {
   "cell_type": "markdown",
   "metadata": {},
   "source": [
    "### Figure8.2014 - 2016 New York City CitiBike Trip Counts\n",
    "The yellow line represents 2014 Citi Bike trip counts, the blue line represents 2015 Citi Bike trip counts, the green line represents 2016 Citi Bike trip counts.\n",
    "\n",
    "The red dot represents the month with highest trip count in that year, and the black dot represents the month with lowest trip counts in that year.\n",
    "\n",
    "This plot shows the number of CitiBike trips are increasing yearly through 2014 - 2016."
   ]
  },
  {
   "cell_type": "markdown",
   "metadata": {},
   "source": [
    "### one more thing.. A Rough Look at NYC Census Tracts"
   ]
  },
  {
   "cell_type": "code",
   "execution_count": 339,
   "metadata": {
    "scrolled": true
   },
   "outputs": [
    {
     "data": {
      "text/html": [
       "<div>\n",
       "<style>\n",
       "    .dataframe thead tr:only-child th {\n",
       "        text-align: right;\n",
       "    }\n",
       "\n",
       "    .dataframe thead th {\n",
       "        text-align: left;\n",
       "    }\n",
       "\n",
       "    .dataframe tbody tr th {\n",
       "        vertical-align: top;\n",
       "    }\n",
       "</style>\n",
       "<table border=\"1\" class=\"dataframe\">\n",
       "  <thead>\n",
       "    <tr style=\"text-align: right;\">\n",
       "      <th></th>\n",
       "      <th>BoroCode</th>\n",
       "      <th>the_geom</th>\n",
       "      <th>BoroName</th>\n",
       "      <th>CTLabel</th>\n",
       "      <th>CT2010</th>\n",
       "      <th>BoroCT2010</th>\n",
       "      <th>CDEligibil</th>\n",
       "      <th>NTACode</th>\n",
       "      <th>NTAName</th>\n",
       "      <th>PUMA</th>\n",
       "      <th>Shape_Leng</th>\n",
       "      <th>Shape_Area</th>\n",
       "    </tr>\n",
       "  </thead>\n",
       "  <tbody>\n",
       "    <tr>\n",
       "      <th>0</th>\n",
       "      <td>5</td>\n",
       "      <td>MULTIPOLYGON (((-74.07920577013245 40.64343078...</td>\n",
       "      <td>Staten Island</td>\n",
       "      <td>9.0</td>\n",
       "      <td>900</td>\n",
       "      <td>5000900</td>\n",
       "      <td>I</td>\n",
       "      <td>SI22</td>\n",
       "      <td>West New Brighton-New Brighton-St. George</td>\n",
       "      <td>3903</td>\n",
       "      <td>7729.016794</td>\n",
       "      <td>2.497010e+06</td>\n",
       "    </tr>\n",
       "    <tr>\n",
       "      <th>1</th>\n",
       "      <td>1</td>\n",
       "      <td>MULTIPOLYGON (((-73.96432543478758 40.75638153...</td>\n",
       "      <td>Manhattan</td>\n",
       "      <td>98.0</td>\n",
       "      <td>9800</td>\n",
       "      <td>1009800</td>\n",
       "      <td>I</td>\n",
       "      <td>MN19</td>\n",
       "      <td>Turtle Bay-East Midtown</td>\n",
       "      <td>3808</td>\n",
       "      <td>5534.199811</td>\n",
       "      <td>1.906016e+06</td>\n",
       "    </tr>\n",
       "    <tr>\n",
       "      <th>2</th>\n",
       "      <td>1</td>\n",
       "      <td>MULTIPOLYGON (((-73.96802436915851 40.75957814...</td>\n",
       "      <td>Manhattan</td>\n",
       "      <td>100.0</td>\n",
       "      <td>10000</td>\n",
       "      <td>1010000</td>\n",
       "      <td>I</td>\n",
       "      <td>MN19</td>\n",
       "      <td>Turtle Bay-East Midtown</td>\n",
       "      <td>3808</td>\n",
       "      <td>5692.168737</td>\n",
       "      <td>1.860938e+06</td>\n",
       "    </tr>\n",
       "    <tr>\n",
       "      <th>3</th>\n",
       "      <td>1</td>\n",
       "      <td>MULTIPOLYGON (((-73.97124277307127 40.76093641...</td>\n",
       "      <td>Manhattan</td>\n",
       "      <td>102.0</td>\n",
       "      <td>10200</td>\n",
       "      <td>1010200</td>\n",
       "      <td>I</td>\n",
       "      <td>MN17</td>\n",
       "      <td>Midtown-Midtown South</td>\n",
       "      <td>3807</td>\n",
       "      <td>5687.802439</td>\n",
       "      <td>1.860993e+06</td>\n",
       "    </tr>\n",
       "    <tr>\n",
       "      <th>4</th>\n",
       "      <td>1</td>\n",
       "      <td>MULTIPOLYGON (((-73.97445730550224 40.76229308...</td>\n",
       "      <td>Manhattan</td>\n",
       "      <td>104.0</td>\n",
       "      <td>10400</td>\n",
       "      <td>1010400</td>\n",
       "      <td>I</td>\n",
       "      <td>MN17</td>\n",
       "      <td>Midtown-Midtown South</td>\n",
       "      <td>3807</td>\n",
       "      <td>5693.036367</td>\n",
       "      <td>1.864600e+06</td>\n",
       "    </tr>\n",
       "  </tbody>\n",
       "</table>\n",
       "</div>"
      ],
      "text/plain": [
       "   BoroCode                                           the_geom       BoroName  \\\n",
       "0         5  MULTIPOLYGON (((-74.07920577013245 40.64343078...  Staten Island   \n",
       "1         1  MULTIPOLYGON (((-73.96432543478758 40.75638153...      Manhattan   \n",
       "2         1  MULTIPOLYGON (((-73.96802436915851 40.75957814...      Manhattan   \n",
       "3         1  MULTIPOLYGON (((-73.97124277307127 40.76093641...      Manhattan   \n",
       "4         1  MULTIPOLYGON (((-73.97445730550224 40.76229308...      Manhattan   \n",
       "\n",
       "   CTLabel  CT2010  BoroCT2010 CDEligibil NTACode  \\\n",
       "0      9.0     900     5000900          I    SI22   \n",
       "1     98.0    9800     1009800          I    MN19   \n",
       "2    100.0   10000     1010000          I    MN19   \n",
       "3    102.0   10200     1010200          I    MN17   \n",
       "4    104.0   10400     1010400          I    MN17   \n",
       "\n",
       "                                     NTAName  PUMA   Shape_Leng    Shape_Area  \n",
       "0  West New Brighton-New Brighton-St. George  3903  7729.016794  2.497010e+06  \n",
       "1                    Turtle Bay-East Midtown  3808  5534.199811  1.906016e+06  \n",
       "2                    Turtle Bay-East Midtown  3808  5692.168737  1.860938e+06  \n",
       "3                      Midtown-Midtown South  3807  5687.802439  1.860993e+06  \n",
       "4                      Midtown-Midtown South  3807  5693.036367  1.864600e+06  "
      ]
     },
     "execution_count": 339,
     "metadata": {},
     "output_type": "execute_result"
    }
   ],
   "source": [
    "ct = pd.read_csv('nyct2010.csv')\n",
    "ct.head()"
   ]
  },
  {
   "cell_type": "code",
   "execution_count": 340,
   "metadata": {},
   "outputs": [
    {
     "data": {
      "text/plain": [
       "Index([u'BoroCode', u'the_geom', u'BoroName', u'CTLabel', u'CT2010',\n",
       "       u'BoroCT2010', u'CDEligibil', u'NTACode', u'NTAName', u'PUMA',\n",
       "       u'Shape_Leng', u'Shape_Area'],\n",
       "      dtype='object')"
      ]
     },
     "execution_count": 340,
     "metadata": {},
     "output_type": "execute_result"
    }
   ],
   "source": [
    "ct.columns"
   ]
  },
  {
   "cell_type": "code",
   "execution_count": null,
   "metadata": {
    "collapsed": true
   },
   "outputs": [],
   "source": []
  }
 ],
 "metadata": {
  "kernelspec": {
   "display_name": "Python 2",
   "language": "python",
   "name": "python2"
  },
  "language_info": {
   "codemirror_mode": {
    "name": "ipython",
    "version": 2
   },
   "file_extension": ".py",
   "mimetype": "text/x-python",
   "name": "python",
   "nbconvert_exporter": "python",
   "pygments_lexer": "ipython2",
   "version": "2.7.13"
  }
 },
 "nbformat": 4,
 "nbformat_minor": 2
}
